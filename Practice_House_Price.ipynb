{
 "cells": [
  {
   "cell_type": "markdown",
   "id": "0a9e5ab4",
   "metadata": {},
   "source": [
    "# Prediciendo el Valor de Inmuebles en Bogotá\n",
    "En este notebook se encontrarán con un breve repaso de limpieza de datos y aplicación de modelos predictivos de machine learning. Los datos elegidos han sido extraidos de la pagina oficial de metrocuadrado a través de tecnicas de webscraping\n",
    "\n",
    "Para desarrollar este trabajo se requerirán de las siguientes librerias:"
   ]
  },
  {
   "cell_type": "code",
   "execution_count": 24,
   "id": "10086274",
   "metadata": {},
   "outputs": [],
   "source": [
    "import pandas as pd\n",
    "import matplotlib.pyplot as plt\n",
    "import numpy as np\n",
    "\n",
    "import statsmodels.api as sm\n",
    "import pyreadstat as pr\n",
    "\n",
    "from sklearn import linear_model\n",
    "from sklearn.metrics import mean_squared_error, r2_score\n",
    "from sklearn.metrics import accuracy_score\n",
    "from sklearn import metrics\n",
    "from sklearn.metrics import mean_squared_error\n",
    "from sklearn.model_selection import train_test_split\n",
    "from sklearn.linear_model import LinearRegression\n",
    "from sklearn.tree import DecisionTreeClassifier\n",
    "from sklearn.linear_model import SGDRegressor\n",
    "from sklearn.pipeline import make_pipeline\n",
    "from sklearn.preprocessing import StandardScaler\n",
    "import math"
   ]
  },
  {
   "cell_type": "code",
   "execution_count": 2,
   "id": "70b713f9",
   "metadata": {},
   "outputs": [],
   "source": [
    "datos = pd.read_csv('https://drive.google.com/uc?id=1jwQo5QLpdgfjqi17NV3t_nt6t8uuERgJ')"
   ]
  },
  {
   "cell_type": "markdown",
   "id": "8868ba43",
   "metadata": {},
   "source": [
    "### Un breve vistazo a las variables.\n",
    "\n",
    "Se identifica que no hay presencia de valores nulosl, sin embargo, es importante analizar las variables de tipo objeto, esto puede significar que contienen variables tipo string y que posiblemente contengan en primera instancia una secuencia de valores en diferente formato.\n"
   ]
  },
  {
   "cell_type": "code",
   "execution_count": 3,
   "id": "6ae52ad4",
   "metadata": {},
   "outputs": [
    {
     "name": "stdout",
     "output_type": "stream",
     "text": [
      "<class 'pandas.core.frame.DataFrame'>\n",
      "RangeIndex: 10000 entries, 0 to 9999\n",
      "Data columns (total 10 columns):\n",
      " #   Column              Non-Null Count  Dtype  \n",
      "---  ------              --------------  -----  \n",
      " 0   Unnamed: 0          10000 non-null  int64  \n",
      " 1   mtipoinmueble       10000 non-null  object \n",
      " 2   mvalorventa         10000 non-null  int64  \n",
      " 3   marea               10000 non-null  float64\n",
      " 4   mnrocuartos         9993 non-null   object \n",
      " 5   mnrobanos           10000 non-null  object \n",
      " 6   mnrogarajes         9945 non-null   float64\n",
      " 7   mzona               9812 non-null   object \n",
      " 8   mbarrio             9945 non-null   object \n",
      " 9   mnombrecomunbarrio  9866 non-null   object \n",
      "dtypes: float64(2), int64(2), object(6)\n",
      "memory usage: 781.4+ KB\n"
     ]
    }
   ],
   "source": [
    "datos.info()"
   ]
  },
  {
   "cell_type": "markdown",
   "id": "9257474b",
   "metadata": {},
   "source": [
    "#### Tipo de inmueble:\n",
    "Se considera una variable categorica, por tanto, se procede a realizar el cast al tipo de dato."
   ]
  },
  {
   "cell_type": "code",
   "execution_count": 4,
   "id": "a9fd91d9",
   "metadata": {},
   "outputs": [],
   "source": [
    "datos['mtipoinmueble'] = datos.mtipoinmueble.astype('category')"
   ]
  },
  {
   "cell_type": "markdown",
   "id": "424d766f",
   "metadata": {},
   "source": [
    "#### Nombre comun barrio:\n",
    "Se considera una variable categorica, por tanto, se procede a realizar el cast al tipo de dato."
   ]
  },
  {
   "cell_type": "code",
   "execution_count": 5,
   "id": "d1f623cc",
   "metadata": {},
   "outputs": [],
   "source": [
    "datos['mnombrecomunbarrio'] = datos.mnombrecomunbarrio.astype('category')"
   ]
  },
  {
   "cell_type": "markdown",
   "id": "b202b1ef",
   "metadata": {},
   "source": [
    "#### Barrio:\n",
    "Se considera una variable categorica, por tanto, se procede a realizar el cast a la variable."
   ]
  },
  {
   "cell_type": "code",
   "execution_count": 6,
   "id": "a85bc3af",
   "metadata": {},
   "outputs": [],
   "source": [
    "datos['mbarrio']= datos.mbarrio.astype('category')"
   ]
  },
  {
   "cell_type": "markdown",
   "id": "1acd8824",
   "metadata": {},
   "source": [
    "#### Zona:\n",
    "Se considera una variable categorica, por tanto, se procede a realizar el cast a la variable."
   ]
  },
  {
   "cell_type": "code",
   "execution_count": 7,
   "id": "ddf1a8f5",
   "metadata": {},
   "outputs": [],
   "source": [
    "datos['mzona'] = datos.mzona.astype('category')"
   ]
  },
  {
   "cell_type": "markdown",
   "id": "07e7b079",
   "metadata": {},
   "source": [
    "#### Numero Cuartos:\n",
    "Se considera una variable categorica, por tanto, se procede a realizar el cast a la variable, sin embargo, para esta variable es necesario realizar una ligera modificación a ciertos valores que estan siendo interpretados como Strings antes de realizar la conversión de las variables."
   ]
  },
  {
   "cell_type": "code",
   "execution_count": 8,
   "id": "688cd689",
   "metadata": {},
   "outputs": [],
   "source": [
    "datos['mnrocuartos'] = datos.mnrocuartos.apply(lambda x: 6 if x == '5+' else x).astype(float)"
   ]
  },
  {
   "cell_type": "markdown",
   "id": "eefbdfd7",
   "metadata": {},
   "source": [
    "#### Numero Baños:\n",
    "Se considera una variable categorica, por tanto, se procede a realizar el cast a la variable, sin embargo, para esta variable es necesario realizar una ligera modificación a ciertos valores que estan siendo interpretados como Strings antes de realizar la conversión de las variables."
   ]
  },
  {
   "cell_type": "code",
   "execution_count": 9,
   "id": "4f77dfa8",
   "metadata": {},
   "outputs": [],
   "source": [
    "datos['mnrobanos'] = datos.mnrobanos.apply(lambda x: 6 if x == '5+' else x).astype(float)"
   ]
  },
  {
   "cell_type": "code",
   "execution_count": 10,
   "id": "ede9e554",
   "metadata": {},
   "outputs": [
    {
     "name": "stdout",
     "output_type": "stream",
     "text": [
      "<class 'pandas.core.frame.DataFrame'>\n",
      "RangeIndex: 10000 entries, 0 to 9999\n",
      "Data columns (total 10 columns):\n",
      " #   Column              Non-Null Count  Dtype   \n",
      "---  ------              --------------  -----   \n",
      " 0   Unnamed: 0          10000 non-null  int64   \n",
      " 1   mtipoinmueble       10000 non-null  category\n",
      " 2   mvalorventa         10000 non-null  int64   \n",
      " 3   marea               10000 non-null  float64 \n",
      " 4   mnrocuartos         9993 non-null   float64 \n",
      " 5   mnrobanos           10000 non-null  float64 \n",
      " 6   mnrogarajes         9945 non-null   float64 \n",
      " 7   mzona               9812 non-null   category\n",
      " 8   mbarrio             9945 non-null   category\n",
      " 9   mnombrecomunbarrio  9866 non-null   category\n",
      "dtypes: category(4), float64(4), int64(2)\n",
      "memory usage: 577.3 KB\n"
     ]
    }
   ],
   "source": [
    "datos.info()"
   ]
  },
  {
   "cell_type": "markdown",
   "id": "6cf73441",
   "metadata": {},
   "source": [
    "## Visualización de los Datos\n",
    "Para comprender la distrubución de los datos, "
   ]
  },
  {
   "cell_type": "code",
   "execution_count": 11,
   "id": "903a5415",
   "metadata": {},
   "outputs": [
    {
     "data": {
      "image/png": "[encoded data removed]",
      "text/plain": [
       "<Figure size 1080x1080 with 8 Axes>"
      ]
     },
     "metadata": {
      "needs_background": "light"
     },
     "output_type": "display_data"
    }
   ],
   "source": [
    "fig,ax = plt.subplots(4,2,figsize = (15,15))\n",
    "datos.mtipoinmueble.value_counts().plot.bar(ax = ax[0,0],title = 'Tipo de Inmueble')\n",
    "datos.mvalorventa.plot.hist(ax = ax[0,1],bins=5,title = 'Valor Inmueble')\n",
    "datos.marea.plot.hist(ax = ax[1,0],title = 'Area Inmueble')\n",
    "datos.mnrocuartos.plot.hist(ax = ax[1,1],title = 'Area Inmueble')\n",
    "datos.mnrobanos.plot.hist(ax = ax[2,0],title = 'Numero de Baños')\n",
    "datos.mnrogarajes.plot.hist(ax = ax[2,1],title = 'Numero de Garajes')\n",
    "datos.mzona.value_counts().plot.bar(ax = ax[3,0],title = 'Zonas')\n",
    "plt.show()"
   ]
  },
  {
   "cell_type": "markdown",
   "id": "7dd99d15",
   "metadata": {},
   "source": [
    "Es evidente que la variable area del inmueble tiene un fuerte sesgo hacia la izquierda, ocasionando que los datos no se aprecien completamente, por tanto, se decide realizar una conversión con log natural a los datos de la variable como se evidencia a continuación:"
   ]
  },
  {
   "cell_type": "code",
   "execution_count": 12,
   "id": "3750433e",
   "metadata": {},
   "outputs": [],
   "source": [
    "datos['mvalorventa_log'] = datos.mvalorventa.apply(np.log10)\n",
    "datos['marea_log'] = (datos.marea + 1).apply(np.log10)"
   ]
  },
  {
   "cell_type": "code",
   "execution_count": 13,
   "id": "a7950ad7",
   "metadata": {},
   "outputs": [
    {
     "data": {
      "text/plain": [
       "(0       100.0\n",
       " 1        34.0\n",
       " 2       157.0\n",
       " 3       173.0\n",
       " 4       190.0\n",
       "         ...  \n",
       " 9995      0.0\n",
       " 9996     72.0\n",
       " 9997    400.0\n",
       " 9998    191.0\n",
       " 9999     79.3\n",
       " Name: marea, Length: 10000, dtype: float64,\n",
       " 0       2.004321\n",
       " 1       1.544068\n",
       " 2       2.198657\n",
       " 3       2.240549\n",
       " 4       2.281033\n",
       "           ...   \n",
       " 9995    0.000000\n",
       " 9996    1.863323\n",
       " 9997    2.603144\n",
       " 9998    2.283301\n",
       " 9999    1.904716\n",
       " Name: marea_log, Length: 10000, dtype: float64)"
      ]
     },
     "execution_count": 13,
     "metadata": {},
     "output_type": "execute_result"
    }
   ],
   "source": [
    "datos['marea'], datos['marea_log']"
   ]
  },
  {
   "cell_type": "markdown",
   "id": "8bb1432b",
   "metadata": {},
   "source": [
    "Sin embargo la conversión no elimina los outliers, es necesario eliminarlos realizando un filtro a la variable"
   ]
  },
  {
   "cell_type": "code",
   "execution_count": 14,
   "id": "614696c9",
   "metadata": {},
   "outputs": [
    {
     "data": {
      "text/plain": [
       "Text(0.5, 0, 'log en base 10 del Area')"
      ]
     },
     "execution_count": 14,
     "metadata": {},
     "output_type": "execute_result"
    },
    {
     "data": {
      "image/png": "[encoded data removed]",
      "text/plain": [
       "<Figure size 432x288 with 1 Axes>"
      ]
     },
     "metadata": {
      "needs_background": "light"
     },
     "output_type": "display_data"
    }
   ],
   "source": [
    "plt.plot(datos['marea_log'],datos['mvalorventa_log'],'r.')\n",
    "plt.ylabel('log en base 10 del Precio')\n",
    "plt.xlabel('log en base 10 del Area')"
   ]
  },
  {
   "cell_type": "code",
   "execution_count": 15,
   "id": "974e418f",
   "metadata": {},
   "outputs": [],
   "source": [
    "filtro = ((datos.marea_log < 0.5) | \n",
    "          (datos.marea_log > 3.5) | \n",
    "          (datos.mvalorventa_log < 7) | \n",
    "          (datos.mvalorventa_log > 11))\n",
    "\n",
    "\n",
    "\n",
    "# El simbolo ~ significa no\n",
    "datos_sin_outliers = datos[~filtro]\n",
    "filtro2 = datos_sin_outliers.mvalorventa_log < 7.9\n",
    "datos_sin_outliers = datos_sin_outliers[~filtro2]\n"
   ]
  },
  {
   "cell_type": "markdown",
   "id": "116d4b8e",
   "metadata": {},
   "source": [
    "### Visualización de datos sin outliers"
   ]
  },
  {
   "cell_type": "code",
   "execution_count": 16,
   "id": "bd0b9f05",
   "metadata": {},
   "outputs": [
    {
     "data": {
      "text/plain": [
       "Text(0.5, 0, 'log en base 10 del Area')"
      ]
     },
     "execution_count": 16,
     "metadata": {},
     "output_type": "execute_result"
    },
    {
     "data": {
      "image/png": "[encoded data removed]",
      "text/plain": [
       "<Figure size 432x288 with 1 Axes>"
      ]
     },
     "metadata": {
      "needs_background": "light"
     },
     "output_type": "display_data"
    }
   ],
   "source": [
    "plt.plot(datos_sin_outliers['marea_log'], datos_sin_outliers['mvalorventa_log'], 'r.')\n",
    "plt.ylabel('log en base 10 del Precio')\n",
    "plt.xlabel('log en base 10 del Area')"
   ]
  },
  {
   "cell_type": "code",
   "execution_count": 17,
   "id": "3c30b99c",
   "metadata": {},
   "outputs": [],
   "source": [
    "df = datos_sin_outliers.drop_duplicates()"
   ]
  },
  {
   "cell_type": "code",
   "execution_count": 18,
   "id": "3aaf02e6",
   "metadata": {
    "scrolled": true
   },
   "outputs": [
    {
     "data": {
      "text/plain": [
       "Text(0.5, 0, 'Area ($m^2$)')"
      ]
     },
     "execution_count": 18,
     "metadata": {},
     "output_type": "execute_result"
    },
    {
     "data": {
      "image/png": "[encoded data removed]",
      "text/plain": [
       "<Figure size 432x288 with 1 Axes>"
      ]
     },
     "metadata": {
      "needs_background": "light"
     },
     "output_type": "display_data"
    }
   ],
   "source": [
    "plt.plot(df['marea'], df['mvalorventa']/1e9, 'ro',alpha=0.05)\n",
    "plt.ylabel('Precio (miles de millones de pesos)')\n",
    "plt.xlabel('Area ($m^2$)')"
   ]
  },
  {
   "cell_type": "markdown",
   "id": "94958657",
   "metadata": {},
   "source": [
    "### Manejo de valores nulos"
   ]
  },
  {
   "cell_type": "code",
   "execution_count": 19,
   "id": "6728e485",
   "metadata": {},
   "outputs": [
    {
     "data": {
      "text/plain": [
       "Unnamed: 0              0\n",
       "mtipoinmueble           0\n",
       "mvalorventa             0\n",
       "marea                   0\n",
       "mnrocuartos             7\n",
       "mnrobanos               0\n",
       "mnrogarajes            55\n",
       "mzona                 179\n",
       "mbarrio                53\n",
       "mnombrecomunbarrio    122\n",
       "mvalorventa_log         0\n",
       "marea_log               0\n",
       "dtype: int64"
      ]
     },
     "execution_count": 19,
     "metadata": {},
     "output_type": "execute_result"
    }
   ],
   "source": [
    "# filtro3 = df.isnull()\n",
    "# df[filtro3.mbarrio]\n",
    "# df[filtro3.mnombrecomunbarrio]\n",
    "# df[df['mnombrecomunbarrio'] == 'ARBORETTO BOSQUE RESIDENCIAL']\n",
    "# df[df['mbarrio'] == 'SANTA ANA ORIENTAL']\n",
    "df.isnull().sum()"
   ]
  },
  {
   "cell_type": "code",
   "execution_count": 20,
   "id": "220afd0f",
   "metadata": {},
   "outputs": [],
   "source": [
    "df = df[df['mnrocuartos'].notnull()]\n",
    "df = df[df['mnrogarajes'].notnull()]\n",
    "df = df[df['mzona'].notnull()]\n",
    "df = df[df['mnombrecomunbarrio'].notnull()]\n",
    "df = df[df['mbarrio'].notnull()]"
   ]
  },
  {
   "cell_type": "markdown",
   "id": "d88a5483",
   "metadata": {},
   "source": [
    "### Regresión Lineal. Estimando el valor de los inmuebles"
   ]
  },
  {
   "cell_type": "code",
   "execution_count": 21,
   "id": "22d566c8",
   "metadata": {},
   "outputs": [
    {
     "name": "stdout",
     "output_type": "stream",
     "text": [
      "<class 'pandas.core.frame.DataFrame'>\n",
      "Int64Index: 8591 entries, 0 to 9999\n",
      "Data columns (total 12 columns):\n",
      " #   Column              Non-Null Count  Dtype   \n",
      "---  ------              --------------  -----   \n",
      " 0   Unnamed: 0          8591 non-null   int64   \n",
      " 1   mtipoinmueble       8591 non-null   category\n",
      " 2   mvalorventa         8591 non-null   int64   \n",
      " 3   marea               8591 non-null   float64 \n",
      " 4   mnrocuartos         8591 non-null   float64 \n",
      " 5   mnrobanos           8591 non-null   float64 \n",
      " 6   mnrogarajes         8591 non-null   float64 \n",
      " 7   mzona               8591 non-null   category\n",
      " 8   mbarrio             8591 non-null   category\n",
      " 9   mnombrecomunbarrio  8591 non-null   category\n",
      " 10  mvalorventa_log     8591 non-null   float64 \n",
      " 11  marea_log           8591 non-null   float64 \n",
      "dtypes: category(4), float64(6), int64(2)\n",
      "memory usage: 704.3 KB\n"
     ]
    }
   ],
   "source": [
    "df.info()"
   ]
  },
  {
   "cell_type": "markdown",
   "id": "d675601b",
   "metadata": {},
   "source": [
    "#### Resultados sin partición\n",
    "Rapidamente con el R cuadrado ajustado podemos suponer que el modelo explica el 83% de los datos usados como entremaniento, sin embargo, es importante saber como es el desempeño del modelo con datos que no ha observado, para ello se deben realizar una partición en los datos, así se cuenta con datos para entrenamiento y para test."
   ]
  },
  {
   "cell_type": "code",
   "execution_count": 22,
   "id": "8418a503",
   "metadata": {},
   "outputs": [
    {
     "name": "stdout",
     "output_type": "stream",
     "text": [
      "                            OLS Regression Results                            \n",
      "==============================================================================\n",
      "Dep. Variable:        mvalorventa_log   R-squared:                       0.834\n",
      "Model:                            OLS   Adj. R-squared:                  0.834\n",
      "Method:                 Least Squares   F-statistic:                 1.079e+04\n",
      "Date:                Wed, 12 May 2021   Prob (F-statistic):               0.00\n",
      "Time:                        14:57:41   Log-Likelihood:                 4606.6\n",
      "No. Observations:                8591   AIC:                            -9203.\n",
      "Df Residuals:                    8586   BIC:                            -9168.\n",
      "Df Model:                           4                                         \n",
      "Covariance Type:            nonrobust                                         \n",
      "===============================================================================\n",
      "                  coef    std err          t      P>|t|      [0.025      0.975]\n",
      "-------------------------------------------------------------------------------\n",
      "const           6.9656      0.013    551.253      0.000       6.941       6.990\n",
      "marea_log       0.8821      0.008    109.647      0.000       0.866       0.898\n",
      "mnrogarajes     0.0621      0.002     33.375      0.000       0.058       0.066\n",
      "mnrobanos       0.0449      0.002     23.763      0.000       0.041       0.049\n",
      "mnrocuartos    -0.0803      0.002    -38.805      0.000      -0.084      -0.076\n",
      "==============================================================================\n",
      "Omnibus:                      271.924   Durbin-Watson:                   2.001\n",
      "Prob(Omnibus):                  0.000   Jarque-Bera (JB):              716.192\n",
      "Skew:                           0.078   Prob(JB):                    3.03e-156\n",
      "Kurtosis:                       4.406   Cond. No.                         51.7\n",
      "==============================================================================\n",
      "\n",
      "Notes:\n",
      "[1] Standard Errors assume that the covariance matrix of the errors is correctly specified.\n"
     ]
    }
   ],
   "source": [
    "X = df[['marea_log','mnrogarajes','mnrobanos','mnrocuartos']]\n",
    "y = df['mvalorventa_log']\n",
    "\n",
    "reg_lin = sm.OLS(y,sm.add_constant(X)).fit() #Modelo de regresión lineal con minimos cuadrados ordinarios\n",
    "\n",
    "print(reg_lin.summary())"
   ]
  },
  {
   "cell_type": "markdown",
   "id": "0dd135a0",
   "metadata": {},
   "source": [
    "### Partición en Datos de Entrenamiento y Test."
   ]
  },
  {
   "cell_type": "code",
   "execution_count": 23,
   "id": "3bd725bb",
   "metadata": {},
   "outputs": [
    {
     "data": {
      "text/plain": [
       "0.836355820011611"
      ]
     },
     "execution_count": 23,
     "metadata": {},
     "output_type": "execute_result"
    }
   ],
   "source": [
    "X_train, X_test,y_train, y_test = train_test_split(X,y,test_size = 0.2, random_state = 1)\n",
    "\n",
    "model = LinearRegression()\n",
    "reg_lin_2 = model.fit(X_train,y_train)\n",
    "\n",
    "reg_lin_2.score(X_train,y_train)"
   ]
  },
  {
   "cell_type": "code",
   "execution_count": 26,
   "id": "b6c3ce80",
   "metadata": {},
   "outputs": [],
   "source": [
    "y_pred = reg_lin_2.predict(X_test)"
   ]
  },
  {
   "cell_type": "code",
   "execution_count": 29,
   "id": "89dd730e",
   "metadata": {},
   "outputs": [
    {
     "name": "stdout",
     "output_type": "stream",
     "text": [
      "La Raiz del Error Cuadratico Medio es: 0.14884883294709614\n"
     ]
    }
   ],
   "source": [
    "mse = mean_squared_error(y_test,y_pred)\n",
    "RMSE = math.sqrt(mse)\n",
    "\n",
    "print(f'La Raiz del Error Cuadratico Medio es: {RMSE}')"
   ]
  },
  {
   "cell_type": "markdown",
   "id": "34a85948",
   "metadata": {},
   "source": [
    "### ¿Que Hubiese Pasado Sin la Transformación Logaritmica?\n",
    "\n",
    "La transformación logaritmica base 10 permite trabajar con variables numericas que difieren considerablemente en sus escalas, por tanto, esa diferencia significativa en escalas puede ocasionar deterioro en la inferencia de los resultados."
   ]
  },
  {
   "cell_type": "code",
   "execution_count": 30,
   "id": "442e3500",
   "metadata": {},
   "outputs": [
    {
     "name": "stdout",
     "output_type": "stream",
     "text": [
      "El R cuadrado Ajustado para este modelo es de: 0.60539482493735\n"
     ]
    }
   ],
   "source": [
    "X_1 = df[['marea','mnrogarajes','mnrobanos','mnrocuartos']]\n",
    "y_1 = df['mvalorventa']\n",
    "\n",
    "X_train, X_test,y_train, y_test = train_test_split(X_1,y_1,test_size = 0.2, random_state = 1)\n",
    "\n",
    "model_1 = LinearRegression()\n",
    "reg_lin_3 = model_1.fit(X_train,y_train)\n",
    "\n",
    "print(f'El R cuadrado Ajustado para este modelo es de: {reg_lin_3.score(X_train,y_train)}')\n"
   ]
  },
  {
   "cell_type": "markdown",
   "id": "650d4bda",
   "metadata": {},
   "source": [
    "### Clasifiación de Zonas con Arboles de decisión\n",
    "\n",
    "A través de un modelo de arboles de decisión se lleva a cabo un proceso de clasificación de Zonas en donde se encuentran las viviendas, para ello, se considera convertir en variable Dummy el tipo de vivienda, así se puede mejorar el rendimiento del algoritmo."
   ]
  },
  {
   "cell_type": "code",
   "execution_count": 31,
   "id": "3573b032",
   "metadata": {},
   "outputs": [],
   "source": [
    "df[['Apartamento','Casa']]  = pd.get_dummies(df['mtipoinmueble'])"
   ]
  },
  {
   "cell_type": "code",
   "execution_count": 32,
   "id": "685781f5",
   "metadata": {},
   "outputs": [
    {
     "name": "stdout",
     "output_type": "stream",
     "text": [
      "<class 'pandas.core.frame.DataFrame'>\n",
      "Int64Index: 8591 entries, 0 to 9999\n",
      "Data columns (total 14 columns):\n",
      " #   Column              Non-Null Count  Dtype   \n",
      "---  ------              --------------  -----   \n",
      " 0   Unnamed: 0          8591 non-null   int64   \n",
      " 1   mtipoinmueble       8591 non-null   category\n",
      " 2   mvalorventa         8591 non-null   int64   \n",
      " 3   marea               8591 non-null   float64 \n",
      " 4   mnrocuartos         8591 non-null   float64 \n",
      " 5   mnrobanos           8591 non-null   float64 \n",
      " 6   mnrogarajes         8591 non-null   float64 \n",
      " 7   mzona               8591 non-null   category\n",
      " 8   mbarrio             8591 non-null   category\n",
      " 9   mnombrecomunbarrio  8591 non-null   category\n",
      " 10  mvalorventa_log     8591 non-null   float64 \n",
      " 11  marea_log           8591 non-null   float64 \n",
      " 12  Apartamento         8591 non-null   uint8   \n",
      " 13  Casa                8591 non-null   uint8   \n",
      "dtypes: category(4), float64(6), int64(2), uint8(2)\n",
      "memory usage: 721.0 KB\n"
     ]
    }
   ],
   "source": [
    "df.info()"
   ]
  },
  {
   "cell_type": "code",
   "execution_count": 33,
   "id": "2767cd82",
   "metadata": {},
   "outputs": [],
   "source": [
    "y = df['mzona']\n",
    "X = df.drop(['mvalorventa','marea','mzona','mbarrio','mnombrecomunbarrio','mtipoinmueble'],axis = 1)"
   ]
  },
  {
   "cell_type": "code",
   "execution_count": 34,
   "id": "20f96c7a",
   "metadata": {},
   "outputs": [],
   "source": [
    "X_train, X_test,y_train, y_test = train_test_split(X,y,test_size = 0.2, random_state =1)"
   ]
  },
  {
   "cell_type": "code",
   "execution_count": 35,
   "id": "1e55b609",
   "metadata": {},
   "outputs": [],
   "source": [
    "clf = DecisionTreeClassifier(criterion = 'entropy',max_depth = 3)\n",
    "clf = clf.fit(X_train,y_train)\n",
    "y_pred = clf.predict(X_test)"
   ]
  },
  {
   "cell_type": "code",
   "execution_count": 36,
   "id": "4ebe6d03",
   "metadata": {
    "scrolled": true
   },
   "outputs": [
    {
     "name": "stdout",
     "output_type": "stream",
     "text": [
      "La precisión del algoritmo de Clasificación fue de: 0.6079115764979639\n"
     ]
    }
   ],
   "source": [
    "print(f'La precisión del algoritmo de Clasificación fue de: {metrics.accuracy_score(y_test,y_pred)}')  "
   ]
  },
  {
   "cell_type": "markdown",
   "id": "df2173e5",
   "metadata": {},
   "source": [
    "### Mejorar la Precisión Agregando Otra Variable. "
   ]
  },
  {
   "cell_type": "code",
   "execution_count": 61,
   "id": "891655e3",
   "metadata": {},
   "outputs": [
    {
     "data": {
      "image/png": "[encoded data removed]",
      "text/plain": [
       "<Figure size 432x288 with 1 Axes>"
      ]
     },
     "metadata": {
      "needs_background": "light"
     },
     "output_type": "display_data"
    }
   ],
   "source": [
    "fig , ax = plt.subplots()\n",
    "ax.hist(df['mvalorventa'],bins = 100)\n",
    "ax.set(xlabel = 'Valor inmueble',ylabel='Frecuencia',title='Valor Inmuebles Bogotá')\n",
    "ax.axvline(x = df['mvalorventa'].mean(),linestyle = '--',label = 'Media',color = 'r')\n",
    "ax.legend()\n",
    "plt.show()"
   ]
  },
  {
   "cell_type": "code",
   "execution_count": 73,
   "id": "890e0291",
   "metadata": {},
   "outputs": [
    {
     "data": {
      "text/plain": [
       "<AxesSubplot:xlabel='mzona', ylabel='mvalorventa'>"
      ]
     },
     "execution_count": 73,
     "metadata": {},
     "output_type": "execute_result"
    },
    {
     "data": {
      "image/png": "[encoded data removed]",
      "text/plain": [
       "<Figure size 1080x1080 with 1 Axes>"
      ]
     },
     "metadata": {
      "needs_background": "light"
     },
     "output_type": "display_data"
    }
   ],
   "source": [
    "import seaborn as sns\n",
    "\n",
    "fig,ax = plt.subplots(figsize=(15,15))\n",
    "sns.boxplot(x = df['mzona'], y = df['mvalorventa'],palette=\"Set3\",\n",
    "           order = ['Centro','Occidental','Sur','Chapinero','Noroccidente',\n",
    "                   'Otros','Guaymaral','Norte'])\n"
   ]
  },
  {
   "cell_type": "code",
   "execution_count": 109,
   "id": "000d92a0",
   "metadata": {},
   "outputs": [
    {
     "data": {
      "text/plain": [
       "(789258764.4853668, 1898994960.2334218, 2320751561.985017)"
      ]
     },
     "execution_count": 109,
     "metadata": {},
     "output_type": "execute_result"
    }
   ],
   "source": [
    "zona_1 = df[df['mzona'].isin(['Centro','Occidental','Sur'])]\n",
    "zona_2 = df[df['mzona'].isin(['Chapinero','Noroccidente','Otros'])]\n",
    "zona_3 = df[df['mzona'].isin(['Guaymaral','Norte'])]\n",
    "\n",
    "zona_1['mvalorventa'].mean()+zona_1['mvalorventa'].std(),zona_2['mvalorventa'].mean()+zona_2['mvalorventa'].std(),zona_3['mvalorventa'].mean()+zona_3['mvalorventa'].std()"
   ]
  },
  {
   "cell_type": "code",
   "execution_count": 110,
   "id": "f4263ad2",
   "metadata": {},
   "outputs": [
    {
     "data": {
      "image/png": "[encoded data removed]",
      "text/plain": [
       "<Figure size 432x288 with 1 Axes>"
      ]
     },
     "metadata": {
      "needs_background": "light"
     },
     "output_type": "display_data"
    }
   ],
   "source": [
    "y = zona_1['mvalorventa']\n",
    "fig , ax = plt.subplots()\n",
    "ax.hist(y,bins = 100)\n",
    "ax.set(xlabel = 'Valor inmueble',ylabel='Frecuencia',title='Valor Inmuebles Bogotá')\n",
    "\n",
    "ax.axvline(x = y.mean(),linestyle = '--',label = 'Media',color = 'k')\n",
    "\n",
    "ax.legend()\n",
    "plt.show()"
   ]
  },
  {
   "cell_type": "code",
   "execution_count": 112,
   "id": "733a95e7",
   "metadata": {},
   "outputs": [
    {
     "data": {
      "text/plain": [
       "(92000000, 11573000000)"
      ]
     },
     "execution_count": 112,
     "metadata": {},
     "output_type": "execute_result"
    }
   ],
   "source": [
    "df['mvalorventa'].min(),df['mvalorventa'].max()"
   ]
  },
  {
   "cell_type": "code",
   "execution_count": 140,
   "id": "de9b673d",
   "metadata": {},
   "outputs": [],
   "source": [
    "catg = ['vbajo','vmedio','valto']\n",
    "val_bins = [0,789258764,1898994960,11573000000]\n",
    "\n",
    "df['mvalorventa_ctg'] = pd.cut(x = df['mvalorventa'],bins = val_bins, labels = catg, ordered=True)"
   ]
  }
 ],
 "metadata": {
  "kernelspec": {
   "display_name": "Python 3",
   "language": "python",
   "name": "python3"
  },
  "language_info": {
   "codemirror_mode": {
    "name": "ipython",
    "version": 3
   },
   "file_extension": ".py",
   "mimetype": "text/x-python",
   "name": "python",
   "nbconvert_exporter": "python",
   "pygments_lexer": "ipython3",
   "version": "3.8.8"
  }
 },
 "nbformat": 4,
 "nbformat_minor": 5
}
